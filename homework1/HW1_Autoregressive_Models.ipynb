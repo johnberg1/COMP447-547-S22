{
  "nbformat": 4,
  "nbformat_minor": 0,
  "metadata": {
    "colab": {
      "name": "HW1_Autoregressive_Models.ipynb",
      "provenance": [],
      "collapsed_sections": [],
      "toc_visible": true,
      "include_colab_link": true
    },
    "kernelspec": {
      "name": "python3",
      "display_name": "Python 3"
    },
    "language_info": {
      "name": "python"
    },
    "accelerator": "GPU"
  },
  "cells": [
    {
      "cell_type": "markdown",
      "metadata": {
        "id": "view-in-github",
        "colab_type": "text"
      },
      "source": [
        "<a href=\"https://colab.research.google.com/github/johnberg1/COMP447-547-S22/blob/main/homework1/HW1_Autoregressive_Models.ipynb\" target=\"_parent\"><img src=\"https://colab.research.google.com/assets/colab-badge.svg\" alt=\"Open In Colab\"/></a>"
      ]
    },
    {
      "cell_type": "markdown",
      "metadata": {
        "id": "Rdy1FtrRpGcC"
      },
      "source": [
        "# Getting Started\n",
        "\n",
        "## Overview\n",
        "This semester, all homeworks will be conducted through Google Colab notebooks. All code for the homework assignment will be written and run in this notebook. Running in Colab will automatically provide a GPU, but you may also run this notebook locally by following [these instructions](https://research.google.com/colaboratory/local-runtimes.html) if you wish to use your own GPU.\n",
        "\n",
        "You will save images in the notebooks to use and fill out a given LaTeX template which will be submitted to Blackboard, along with your notebook code.\n",
        "\n",
        "## Using Colab\n",
        "On the left-hand side, you can click the different icons to see a Table of Contents of the assignment, as well as local files accessible through the notebook.\n",
        "\n",
        "Make sure to go to **Runtime -> Change runtime type** and select **GPU** as the hardware accelerator. This allows you to use a GPU. Run the cells below to get started on the assignment. Note that a session is open for a maximum of 12 hours, and using too much GPU compute may result in restricted access for a short period of time. Please start the homework early so you have ample time to work.\n",
        "\n",
        "**If you loaded this notebook from clicking \"Open in Colab\" from github, you will need to save it to your own Google Drive to keep your work.**\n",
        "\n",
        "## General Tips\n",
        "In the first problem, you will implement an autoregressive model and run it on two datasets (dataset 1 and dataset 2). The expected outputs for dataset 1 are already provided to help as a sanity check. In the second problem, you will train on one dataset (MNIST).\n",
        "\n",
        "After each part, there will be a written question that you will need to answer about that part. These questions are given under the **Inline Question** title. You just need to write your answers below those questions.\n",
        "\n",
        "Feel free to print whatever output (e.g. debugging code, training code, etc) you want. Your graded submission will be the report you submit together with a copy of your notebook.\n",
        "\n",
        "You will be implementing the code using PyTorch. Some parts of the code such as function headers are already provided to you, you will need to fill out the parts with \"YOUR CODE HERE\". Feel free to create more cells and more functions or modify the existing ones if you wish.\n",
        "\n",
        "After you complete the assignment, download all of the image outputted in the results/ folder (which you can find on the left dashboard by clicking the folder icon) and upload them to the figure folder in the given latex template.\n",
        "\n",
        "Run the cells below to download and load up the starter code."
      ]
    },
    {
      "cell_type": "code",
      "metadata": {
        "id": "wUVy2glDtoaR"
      },
      "source": [
        "!if [ -d deepul ]; then rm -Rf deepul; fi \n",
        "!git clone https://github.com/johnberg1/deepul.git\n",
        "!unzip -qq deepul/homeworks/hw1/data/hw1_data.zip -d deepul/homeworks/hw1/data/\n",
        "!pip install ./deepul"
      ],
      "execution_count": null,
      "outputs": []
    },
    {
      "cell_type": "code",
      "metadata": {
        "id": "ZHWosWrbpO5Y"
      },
      "source": [
        "from deepul.hw1_helper import *"
      ],
      "execution_count": null,
      "outputs": []
    },
    {
      "cell_type": "markdown",
      "metadata": {
        "id": "7E4CMktzo100"
      },
      "source": [
        "# Question 1: 1D Data\n",
        "\n",
        "In this question, we will train simple generative models on discrete 1D data.\n",
        "\n",
        "Execute the cell below to visualize our datasets"
      ]
    },
    {
      "cell_type": "code",
      "metadata": {
        "id": "ehhv2FZGo4_b"
      },
      "source": [
        "visualize_q1_data(dset_type=1)\n",
        "visualize_q1_data(dset_type=2)"
      ],
      "execution_count": null,
      "outputs": []
    },
    {
      "cell_type": "markdown",
      "metadata": {
        "id": "kSGTVznZqAR3"
      },
      "source": [
        "## Part (a) Fitting a Histogram (5 Points)\n",
        "\n",
        "Let $\\theta = (\\theta_0, \\dots, \\theta_{d-1}) \\in \\mathbb{R}^d$ and define the model $p_\\theta(x) = \\frac{e^{\\theta_x}}{\\sum_{x'}e^{\\theta_{x'}}}$\n",
        "\n",
        "Fit $p_\\theta$ with maximum likelihood via stochastic gradient descent on the training set, using $\\theta$ initialized to zero. Use your favorite version of stochastic gradient descent, and optimize your hyperparameters on a validation set of your choice.\n",
        "\n",
        "**You will provide these deliverables**\n",
        "\n",
        "\n",
        "1.   Over the course of training, record the average negative log-likelihood (nats / dim) of the training data (per minibatch) and test data (for your entire test set). Code is provided that automatically plots the training curves. \n",
        "2.   Report the final test set performance of your final model\n",
        "3. Plot the model probabilities in a bar graph with $\\{0,\\dots,d-1\\}$ on the x-axis and a real number in $[0,1]$ on the y-axis.\n",
        "\n",
        "\n"
      ]
    },
    {
      "cell_type": "markdown",
      "metadata": {
        "id": "Yg0Jmo1PSaE4"
      },
      "source": [
        "### Solution\n",
        "Fill out the functions below and return the necessary arguments. Feel free to create more cells if need be.\n",
        "\n",
        "Implement the Histogram class which extends nn.Module, you will need to create the parameters of the model and provide a loss given a batch of data. In the get_distribution function, you will return a valid probability distribution which sums up to 1. You may want to take a look at the documentations of torch.nn.functional.cross_entropy() and torch.nn.functional.softmax()\n",
        "\n",
        "After creating your model, you will train your model on the training set and evaluate on the test set. \n",
        "\n",
        "**Hint**: You may want to implement training and the evaluation procedures as functions which take a model and the dataloaders as an input and return the losses. This way, you can use these functions to train all the models you will create in this homework by simply calling them from inside the necessary functions such as 'q1_a' or 'q1_b'"
      ]
    },
    {
      "cell_type": "code",
      "metadata": {
        "id": "wkZoFkhQeOf3"
      },
      "source": [
        "import torch\n",
        "import torch.optim as optim\n",
        "import torch.utils.data as data\n",
        "import torch.nn as nn\n",
        "import torch.nn.functional as F\n",
        "import numpy as np"
      ],
      "execution_count": null,
      "outputs": []
    },
    {
      "cell_type": "code",
      "metadata": {
        "id": "6ycAfjmAfLQw"
      },
      "source": [
        "class Histogram(nn.Module):\n",
        "  def __init__(self, d):\n",
        "    super().__init__()\n",
        "    \"\"\" YOUR CODE HERE \"\"\"\n",
        "\n",
        "  def loss(self, x):\n",
        "    \"\"\" YOUR CODE HERE \"\"\"\n",
        "\n",
        "  def get_distribution(self):\n",
        "    \"\"\" YOUR CODE HERE \"\"\""
      ],
      "execution_count": null,
      "outputs": []
    },
    {
      "cell_type": "code",
      "metadata": {
        "id": "BJNa6dHKpEQU"
      },
      "source": [
        "def q1_a(train_data, test_data, d, dset_id):\n",
        "  \"\"\"\n",
        "  train_data: An (n_train,) numpy array of integers in {0, ..., d-1}\n",
        "  test_data: An (n_test,) numpy array of integers in {0, .., d-1}\n",
        "  d: The number of possible discrete values for random variable x\n",
        "  dset_id: An identifying number of which dataset is given (1 or 2). Most likely\n",
        "             used to set different hyperparameters for different datasets\n",
        "\n",
        "  Returns\n",
        "  - a (# of training iterations,) numpy array of train_losses evaluated every minibatch\n",
        "  - a (# of epochs + 1,) numpy array of test_losses evaluated once at initialization and after each epoch\n",
        "  - a numpy array of size (d,) of model probabilities\n",
        "  \"\"\"\n",
        "  \n",
        "  \"\"\" YOUR CODE HERE \"\"\""
      ],
      "execution_count": null,
      "outputs": []
    },
    {
      "cell_type": "markdown",
      "metadata": {
        "id": "SiGBSP-ESeIj"
      },
      "source": [
        "### Results\n",
        "\n",
        "Once you've implemented `q1_a`, execute the cells below to visualize and save your results\n",
        "\n"
      ]
    },
    {
      "cell_type": "code",
      "metadata": {
        "id": "qjK_KReXsqYa",
        "colab": {
          "base_uri": "https://localhost:8080/",
          "height": 591
        },
        "outputId": "fe6ae57d-63d8-4e50-a3ed-b0fb087a633f"
      },
      "source": [
        "q1_save_results(1, 'a', q1_a)"
      ],
      "execution_count": null,
      "outputs": [
        {
          "output_type": "stream",
          "text": [
            "Final Test Loss: 2.0553\n"
          ],
          "name": "stdout"
        },
        {
          "output_type": "display_data",
          "data": {
            "text/plain": [
              "<Figure size 432x288 with 1 Axes>"
            ],
            "image/png": "[encoded data removed]"
          },
          "metadata": {
            "tags": [],
            "needs_background": "light"
          }
        },
        {
          "output_type": "display_data",
          "data": {
            "text/plain": [
              "<Figure size 432x288 with 1 Axes>"
            ],
            "image/png": "[encoded data removed]"
          },
          "metadata": {
            "tags": [],
            "needs_background": "light"
          }
        }
      ]
    },
    {
      "cell_type": "code",
      "metadata": {
        "id": "sJVOUEaaZXcA"
      },
      "source": [
        "q1_save_results(2, 'a', q1_a)"
      ],
      "execution_count": null,
      "outputs": []
    },
    {
      "cell_type": "markdown",
      "source": [
        " ### <font color='red'> Inline Question 1 </font>\n",
        "\n",
        "*   What is the number of parameters of your Histogram model, for dataset 1 and dataset 2?\n",
        "*   Supose that you are implementing a Histogram to model 28x28 binary images (each pixel has value of {0,1}). How many parameters would this model need to have? Is this a feasible way to model image distributions?\n",
        "\n",
        "<font color='red'> Your Answers </font>\n"
      ],
      "metadata": {
        "id": "cnxld_vbh17F"
      }
    },
    {
      "cell_type": "markdown",
      "metadata": {
        "id": "DiyFXlj0rfcr"
      },
      "source": [
        "## Part (b) Fitting Discretized Mixture of Logistics (5 Points)\n",
        "\n",
        "Let us model $p_\\theta(x)$ as a **discretized** mixture of 6 logistics such that $p_\\theta(x) = \\sum_{i=1}^6 \\pi_i[\\sigma((x+0.5 - \\mu_i)/s_i) - \\sigma((x-0.5-\\mu_i)/s_i)]$\n",
        "\n",
        "For the edge case of when $x = 0$, we replace $x-0.5$ by $-\\infty$, and for $x = d-1$, we replace $x+0.5$ by $\\infty$.\n",
        "\n",
        "You may find the [PixelCNN++](https://arxiv.org/abs/1701.05517) helpful for more information on discretized mixture of logistics.\n",
        "\n",
        "**Provide the same set of corresponding deliverables as part (a)**"
      ]
    },
    {
      "cell_type": "markdown",
      "metadata": {
        "id": "f4dnQIg_TDx6"
      },
      "source": [
        "### Solution\n",
        "Fill out the functions below and return the necessary arguments. Feel free to create more cells if need be. \n",
        "\n",
        "Implement the MixtureOfLogistics class which extends nn.Module. Similar to the first part, you will create the parameters, implement the forward pass, loss functions and provide a function which returns a valid probability distribution.\n",
        "\n",
        "Possible functions that might help: torch.sigmoid(), torch.clamp(), F.log_softmax()"
      ]
    },
    {
      "cell_type": "code",
      "metadata": {
        "id": "K3hX-sb-kHB7"
      },
      "source": [
        "class MixtureOfLogistics(nn.Module):\n",
        "  def __init__(self, d, n_mix=6):\n",
        "    super().__init__()\n",
        "    \"\"\" YOUR CODE HERE \"\"\"\n",
        "\n",
        "  def forward(self, x):\n",
        "    \"\"\" YOUR CODE HERE \"\"\"\n",
        "\n",
        "  def loss(self, x):\n",
        "    \"\"\" YOUR CODE HERE \"\"\"\n",
        "\n",
        "  def get_distribution(self):\n",
        "    \"\"\" YOUR CODE HERE \"\"\""
      ],
      "execution_count": null,
      "outputs": []
    },
    {
      "cell_type": "code",
      "metadata": {
        "id": "uAvMQDJJrjNo"
      },
      "source": [
        "def q1_b(train_data, test_data, d, dset_id):\n",
        "  \"\"\"\n",
        "  train_data: An (n_train,) numpy array of integers in {0, ..., d-1}\n",
        "  test_data: An (n_test,) numpy array of integers in {0, .., d-1}\n",
        "  d: The number of possible discrete values for random variable x\n",
        "  dset_id: An identifying number of which dataset is given (1 or 2). Most likely\n",
        "           used to set different hyperparameters for different datasets\n",
        "\n",
        "  Returns\n",
        "  - a (# of training iterations,) numpy array of train_losses evaluated every minibatch\n",
        "  - a (# of epochs + 1,) numpy array of test_losses evaluated once at initialization and after each epoch\n",
        "  - a numpy array of size (d,) of model probabilities\n",
        "  \"\"\"\n",
        "  \n",
        "  \"\"\" YOUR CODE HERE \"\"\""
      ],
      "execution_count": null,
      "outputs": []
    },
    {
      "cell_type": "markdown",
      "metadata": {
        "id": "VwZyhlewTHH4"
      },
      "source": [
        "### Results\n",
        "\n",
        "Once you've implemented `q1_b`, execute the cells below to visualize and save your results\n",
        "\n"
      ]
    },
    {
      "cell_type": "code",
      "metadata": {
        "id": "wnnQORaG6Ouf",
        "colab": {
          "base_uri": "https://localhost:8080/",
          "height": 591
        },
        "outputId": "3890f9ce-84cb-4c48-f2ca-9a1746acc424"
      },
      "source": [
        "q1_save_results(1, 'b', q1_b)"
      ],
      "execution_count": null,
      "outputs": [
        {
          "output_type": "stream",
          "text": [
            "Final Test Loss: 2.0586\n"
          ],
          "name": "stdout"
        },
        {
          "output_type": "display_data",
          "data": {
            "text/plain": [
              "<Figure size 432x288 with 1 Axes>"
            ],
            "image/png": "[encoded data removed]"
          },
          "metadata": {
            "tags": [],
            "needs_background": "light"
          }
        },
        {
          "output_type": "display_data",
          "data": {
            "text/plain": [
              "<Figure size 432x288 with 1 Axes>"
            ],
            "image/png": "[encoded data removed]"
          },
          "metadata": {
            "tags": [],
            "needs_background": "light"
          }
        }
      ]
    },
    {
      "cell_type": "code",
      "metadata": {
        "id": "1jLGoDa46RM6"
      },
      "source": [
        "q1_save_results(2, 'b', q1_b)"
      ],
      "execution_count": null,
      "outputs": []
    },
    {
      "cell_type": "markdown",
      "source": [
        " ### <font color='red'> Inline Question 2 </font>\n",
        "\n",
        "*   Please run the experiments **on dataset 2** with `n_mix = 2` and `n_mix = 4` again and observe the changes in the results. Are your results as good as the results with `n_mix = 6`? Why do you think this happens? Please explain briefly. (Note that for the report, **you need to include the results for** `n_mix = 6` **only**, the other experiments are just for you to observe).\n",
        "\n",
        "<font color='red'> Your Answers </font>"
      ],
      "metadata": {
        "id": "drZR4G6hj3Ki"
      }
    },
    {
      "cell_type": "markdown",
      "source": [
        "# Question 2 PixelCNNs\n",
        "\n",
        "Now, you will train more powerful PixelCNN model and its variations on MNIST. In the first part, you will implement a PixelCNN that is trained with the default Cross Entropy Loss. In the second part, you will implement the alternative loss proposed in PixelCNN++, mixture of logistics. In the final part, you will implement the gated version, GatedPixelCNN."
      ],
      "metadata": {
        "id": "yiIU3aRxZ685"
      }
    },
    {
      "cell_type": "markdown",
      "source": [
        "## Part (a) PixelCNN on MNIST (10 Points)"
      ],
      "metadata": {
        "id": "9nj4gFyXaI2-"
      }
    },
    {
      "cell_type": "code",
      "source": [
        "import torch\n",
        "import torch.nn as nn\n",
        "import torch.nn.functional as F\n",
        "from torchvision import datasets, transforms\n",
        "import os\n",
        "import sys\n",
        "from torch import optim\n",
        "from torch.utils import data\n",
        "import torchvision\n",
        "import numpy as np\n",
        "import matplotlib.pyplot as plt\n",
        "%matplotlib inline"
      ],
      "metadata": {
        "id": "0jsCqLJwezLq"
      },
      "execution_count": null,
      "outputs": []
    },
    {
      "cell_type": "markdown",
      "source": [
        "You will train your model on MNIST. Let's download the dataset and visualize an example:"
      ],
      "metadata": {
        "id": "MDL-G8yMeK9z"
      }
    },
    {
      "cell_type": "code",
      "source": [
        "dataset_path = '/content/data'\n",
        "transform = transforms.ToTensor()\n",
        "train_data = datasets.MNIST(root=dataset_path,\n",
        "                            train=True,\n",
        "                            download=True,\n",
        "                            transform=transform)\n",
        "test_data = datasets.MNIST(root=dataset_path,\n",
        "                            train=False,\n",
        "                            download=True,\n",
        "                            transform=transform)\n",
        "print(train_data)\n",
        "\n",
        "plt.imshow(train_data.data[447], cmap='gray')\n",
        "plt.title('%i' % train_data.targets[447])\n",
        "plt.axis('off')\n",
        "plt.show()"
      ],
      "metadata": {
        "colab": {
          "base_uri": "https://localhost:8080/",
          "height": 368
        },
        "id": "1EXaGq10eTG4",
        "outputId": "77df6a54-346c-42a2-8fcc-6406978bcd32"
      },
      "execution_count": null,
      "outputs": [
        {
          "output_type": "stream",
          "name": "stdout",
          "text": [
            "Dataset MNIST\n",
            "    Number of datapoints: 60000\n",
            "    Root location: /content/data\n",
            "    Split: Train\n",
            "    StandardTransform\n",
            "Transform: ToTensor()\n"
          ]
        },
        {
          "output_type": "display_data",
          "data": {
            "image/png": "[encoded data removed]",
            "text/plain": [
              "<Figure size 432x288 with 1 Axes>"
            ]
          },
          "metadata": {
            "needs_background": "light"
          }
        }
      ]
    },
    {
      "cell_type": "markdown",
      "source": [
        "### Solution"
      ],
      "metadata": {
        "id": "zjKI3H6bxQE6"
      }
    },
    {
      "cell_type": "markdown",
      "source": [
        "In this part, you will implement a very simple PixelCNN architecture on greyscale handwritten digits. This model will be trained with the default Cross Entropy Loss.\n",
        "\n",
        "As you have seen in the lecture, PixelCNN utilizes masked convolutions to ensure the autoregressive property is satisfied. First start by implementing a masked convolutional layer. Remember that there are two different types of layers, type A and type B, depending on the masking you are using.\n",
        "\n",
        "A class header is provided to you in the cell below, which extends the `nn.Conv2d` class. You may wish to implement your layer that extends the `nn.Module` class instead."
      ],
      "metadata": {
        "id": "9iYrnz9ZaR1e"
      }
    },
    {
      "cell_type": "code",
      "source": [
        "class MaskedConv2d(nn.Conv2d):\n",
        "  def __init__(self, mask_type, *args, **kwargs):\n",
        "    \"\"\" YOUR CODE HERE \"\"\"\n",
        "\n",
        "  def forward(self, x):\n",
        "    \"\"\" YOUR CODE HERE \"\"\""
      ],
      "metadata": {
        "id": "hSnqP__sbjXF"
      },
      "execution_count": null,
      "outputs": []
    },
    {
      "cell_type": "markdown",
      "source": [
        "Now that you have implemented a masked convolutional layer, you can use this layer inside your PixelCNN model. Again, a class header is provided to you. Here is a pseudocode for the reference implementation:\n",
        "\n",
        "\n",
        "\n",
        "```\n",
        "class PixelCNN:\n",
        "  MaskedConv(mask_type='A', in_channels = 1, out_channels = 64, kernel_size = 7, stride = 1, padding = 3)\n",
        "  BatchNorm(num_features=64)\n",
        "  ReLU()\n",
        "\n",
        "  for _ in range(3):\n",
        "    MaskedConv(mask_type='B', in_channels = 64, out_channels = 64, kernel_size = 7, stride = 1, padding = 3)\n",
        "    BatchNorm(num_features=64)\n",
        "    ReLU()\n",
        "\n",
        "  MaskedConv(mask_type='B', in_channels = 64, out_channels = 64, kernel_size = 1)\n",
        "  BatchNorm(num_features=64)\n",
        "  ReLU()\n",
        "  MaskedConv(mask_type='B', in_channels = 64, out_channels = 256, kernel_size = 1)\n",
        "\n",
        "```\n",
        "\n"
      ],
      "metadata": {
        "id": "aFBAigvBcMP9"
      }
    },
    {
      "cell_type": "code",
      "source": [
        "class PixelCNN(nn.Module):\n",
        "  def __init__(self, num_layers = 5, num_channels = 64, kernel_size = 7):\n",
        "    \"\"\" YOUR CODE HERE \"\"\"\n",
        "\n",
        "  def forward(self, x):\n",
        "    \"\"\" YOUR CODE HERE \"\"\""
      ],
      "metadata": {
        "id": "8YkxcukLckHT"
      },
      "execution_count": null,
      "outputs": []
    },
    {
      "cell_type": "markdown",
      "source": [
        "Now you are ready to train your model. Fill in the function `q2_a` below to train the model and return the correct deliverables. In this function, you will initialize your model and train this model. The reference implementation uses `batch_size = 128`, `num_epocs = 5`, `optimizer = Adam`, `lr = 1e-3` as hyperparameters. Use Cross Entropy Loss to train this model, please look at the documentation of this loss. It should take around 16 minutes to train for 5 epochs\n",
        "\n",
        "**You will provide the following deliverables:**\n",
        "\n",
        "*   **A list of training losses evaluated at every minibatch. (Create an empty list before training, append the loss after every minibatch and return the final list).**\n",
        "*   **A list of test losses evaluated once at initialization and after each epoch. (Create an empty list. Evaluate on the test set before training and append it to this list. After every epoch, evaluate on the test set again and append to the list. Return the final list).**\n",
        "*   **25 samples drawn from your trained model. (The sampling function is already provided to you. Just call this function after training and return the samples).**\n",
        "\n",
        "Here is a pseudocode for the reference implementation. Once again, you may wish to implement a generic training function (`train_model`) that takes your model and dataloaders and returns the training losses:\n",
        "\n",
        "\n",
        "```\n",
        "function q2a():\n",
        "  batch_size = 128\n",
        "  num_epochs = 5\n",
        "  train_loader = data.DataLoader(train_data, ...)\n",
        "  test_loader = data.DataLoader(test_data, ...)\n",
        "  device = 'cuda:0' or 'cpu'\n",
        "  model = PixelCNN().to(device)\n",
        "  train_losses, test_losses = train_model(model, train_loader, test_loader, ...)\n",
        "  \n",
        "  samples = sample(model)\n",
        "  return train_losses, test_losses, samples\n",
        "\n",
        "```\n",
        "\n"
      ],
      "metadata": {
        "id": "lexYZvOIgWgs"
      }
    },
    {
      "cell_type": "code",
      "source": [
        "# Execute this cell, nothing to implement here\n",
        "def sample(model):\n",
        "  \"\"\"\n",
        "  model: PixelCNN model trained on MNIST\n",
        "\n",
        "  Returns\n",
        "  - sample: A tensor containing the samples generated by the model\n",
        "  \"\"\"\n",
        "  \n",
        "  no_images = 25\n",
        "  images_channels = 1\n",
        "  images_size = 28\n",
        "  sample = torch.Tensor(no_images, images_channels, images_size, images_size).cuda()\n",
        "  sample.fill_(0)\n",
        "\n",
        "  for i in range(images_size):\n",
        "    for j in range(images_size):\n",
        "      out = model(sample)\n",
        "      probs = F.softmax(out[:,:,i,j], dim=-1).data\n",
        "      sample[:,:,i,j] = torch.multinomial(probs, 1).float() / 255.0\n",
        "  return sample.cpu()"
      ],
      "metadata": {
        "id": "Pw_lqcTRiLeC"
      },
      "execution_count": null,
      "outputs": []
    },
    {
      "cell_type": "code",
      "source": [
        "def q2_a(train_data, test_data):\n",
        "  \"\"\"\n",
        "  train_data: A (n_train, H, W) numpy array of greyscale MNIST images\n",
        "  test_data: A (n_test, H, W) numpy array of greyscale MNIST images\n",
        "\n",
        "  Returns\n",
        "  - a (# of training iterations,) list of train_losses evaluated every minibatch\n",
        "  - a (# of epochs + 1,) list of test_losses evaluated once at initialization and after each epoch\n",
        "  - a tensor containing samples generated by the trained model\n",
        "  \"\"\"\n",
        "  \n",
        "  \"\"\" YOUR CODE HERE \"\"\""
      ],
      "metadata": {
        "id": "Jdg59OElghMf"
      },
      "execution_count": null,
      "outputs": []
    },
    {
      "cell_type": "markdown",
      "source": [
        "### Results\n",
        "\n",
        "Once you've implemented `q2_a`, execute the cell below to visualize and save your results"
      ],
      "metadata": {
        "id": "DNJjEMmxmKOT"
      }
    },
    {
      "cell_type": "code",
      "source": [
        "q2a_save_results(q2_a, train_data, test_data)"
      ],
      "metadata": {
        "id": "PQoj6As1o7uU"
      },
      "execution_count": null,
      "outputs": []
    },
    {
      "cell_type": "markdown",
      "source": [
        " ### <font color='red'> Inline Question 3 </font>\n",
        "\n",
        "*   Bits per dim is a common metric to evaluate these autoregressive models such as PixelCNN. Please describe what bits per dim is, what is its relationship with log-likelihood and how it is calculated.\n",
        "\n",
        "<font color='red'> Your Answers </font>\n"
      ],
      "metadata": {
        "id": "NPyDAkD7kTlN"
      }
    },
    {
      "cell_type": "markdown",
      "source": [
        "## Part (b) PixelCNN+ on MNIST (15 Points)"
      ],
      "metadata": {
        "id": "R928z8AgXa2d"
      }
    },
    {
      "cell_type": "markdown",
      "source": [
        "In this part, you will implement the mixture of logistics used in PixelCNN++, instead of the cross entropy loss used in the original PixelCNN. We call this model PixelCNN+, since we are only adapting the loss function and not implementing the other details presented in PixelCNN++. Let's start by loading the dataset, this time we will normalize the pixels to be in the range [-1,1]"
      ],
      "metadata": {
        "id": "k9HjM0SVX_4U"
      }
    },
    {
      "cell_type": "code",
      "source": [
        "dataset_path = '/content/data'\n",
        "rescaling     = lambda x : (x - .5) * 2.\n",
        "rescaling_inv = lambda x : .5 * x  + .5\n",
        "transform = transforms.Compose([transforms.ToTensor(), rescaling])\n",
        "train_data = datasets.MNIST(root=dataset_path,\n",
        "                            train=True,\n",
        "                            download=True,\n",
        "                            transform=transform)\n",
        "test_data = datasets.MNIST(root=dataset_path,\n",
        "                            train=False,\n",
        "                            download=True,\n",
        "                            transform=transform)\n",
        "print(train_data)\n",
        "\n",
        "plt.imshow(train_data.data[447], cmap='gray')\n",
        "plt.title('%i' % train_data.targets[447])\n",
        "plt.axis('off')\n",
        "plt.show()"
      ],
      "metadata": {
        "id": "KPyMItkwnVw6"
      },
      "execution_count": null,
      "outputs": []
    },
    {
      "cell_type": "markdown",
      "source": [
        "### Solution"
      ],
      "metadata": {
        "id": "3jMRvOfTxT5l"
      }
    },
    {
      "cell_type": "markdown",
      "source": [
        "Please complete the `PixelCNNPlus` class below. Your model will be almost exactly the same with part (a), with a small modification on the last convolutional layer. Since we will output a mixture of logistics, instead of a 256 way softmax, the number of output channels should be equal to `3 * number_of_mixtures`. In the reference implementation, we use the `number_of_mixtures = 10`, therefore the last convolutional layer has `30` filters in total."
      ],
      "metadata": {
        "id": "So9P0MWhcgF6"
      }
    },
    {
      "cell_type": "code",
      "source": [
        "class PixelCNNPlus(nn.Module):\n",
        "  def __init__(self, num_layers = 5, num_channels = 64, kernel_size = 7):\n",
        "    \"\"\" YOUR CODE HERE \"\"\"\n",
        "\n",
        "  def forward(self, x):\n",
        "    \"\"\" YOUR CODE HERE \"\"\""
      ],
      "metadata": {
        "id": "_6hmQqVXp797"
      },
      "execution_count": null,
      "outputs": []
    },
    {
      "cell_type": "markdown",
      "source": [
        "\n",
        "The main implementation will be about the loss function. You need to implement **Discretized Logistic Mixture Likelihood** from PixelCNN++. Please take a look at the paper for the detailed explanation of this. Your implementation will be very similar to the Discretized Mixture of Logistics you implemented in Question 1 (b). However, here we will be working on images instead of 1-dimensional data. \n",
        "\n",
        "One important detail is that in this part, we normalize the data to be in the range [-1,1] when loading it, so the following function assumes that your data is in this range. Please fill out the following function:\n"
      ],
      "metadata": {
        "id": "QRnzCWxRc2Wl"
      }
    },
    {
      "cell_type": "code",
      "source": [
        "def mix_of_logistics_loss(fake, real):\n",
        "  \"\"\" YOUR CODE HERE \"\"\""
      ],
      "metadata": {
        "id": "IERg3_yXdJgo"
      },
      "execution_count": null,
      "outputs": []
    },
    {
      "cell_type": "markdown",
      "source": [
        "Now, you need to use this loss as the loss function in your training loop, instead of the Cross Entropy Loss from part (a). You can borrow your previous training loops / functions, but you may need to do some small changes for compatibility of the losses etc.\n",
        "\n",
        "Fill in the function `q2_b` below to train the model and return the correct deliverables. In this function, you will initialize your model and train this model. The reference implementation uses `batch_size = 128`, `num_epocs = 5`, `optimizer = Adam`, `lr = 1e-3` as hyperparameters. It should take around 16 minutes to train for 5 epochs\n",
        "\n",
        "**You will provide the following deliverables:**\n",
        "\n",
        "*   **A list of training losses evaluated at every minibatch. (Create an empty list before training, append the loss after every minibatch and return the final list).**\n",
        "*   **A list of test losses evaluated once at initialization and after each epoch. (Create an empty list. Evaluate on the test set before training and append it to this list. After every epoch, evaluate on the test set again and append to the list. Return the final list).**\n",
        "*   **25 samples drawn from your trained model. (The sampling function is already provided to you. Just call this function after training and return the samples).**\n",
        "\n",
        "Here is a pseudocode for the reference implementation:\n",
        "\n",
        "\n",
        "```\n",
        "function q2b():\n",
        "  batch_size = 128\n",
        "  num_epochs = 5\n",
        "  train_loader = data.DataLoader(train_data, ...)\n",
        "  test_loader = data.DataLoader(test_data, ...)\n",
        "  device = 'cuda:0' or 'cpu'\n",
        "  model = PixelCNNPlus().to(device)\n",
        "  train_losses, test_losses = train_model(model, train_loader, test_loader, ...)\n",
        "  \n",
        "  samples = sample_mixture(model)\n",
        "  return train_losses, test_losses, samples\n",
        "\n",
        "```"
      ],
      "metadata": {
        "id": "incQii-vdm-c"
      }
    },
    {
      "cell_type": "code",
      "source": [
        "# Execute this cell, nothing to implement here\n",
        "def sample_mix(model):\n",
        "  \"\"\"\n",
        "  model: PixelCNNPlus model trained on MNIST\n",
        "\n",
        "  Returns\n",
        "  - sample: A tensor containing the samples generated by the model\n",
        "  \"\"\"\n",
        "  obs = (1, 28, 28)\n",
        "  sample_batch_size = 25\n",
        "  sample_op = sample_from_discretized_mix_logistic_1d\n",
        "  model.eval()\n",
        "  samples = torch.zeros(sample_batch_size, obs[0], obs[1], obs[2])\n",
        "  samples = samples.cuda()\n",
        "  for i in range(obs[1]):\n",
        "      for j in range(obs[2]):\n",
        "          samples_v = samples\n",
        "          out   = model(samples_v)\n",
        "          out_sample = sample_op(out, nr_mix=10)\n",
        "          samples[:, :, i, j] = out_sample.data[:, :, i, j]\n",
        "  return rescaling_inv(samples).cpu()"
      ],
      "metadata": {
        "id": "KLXjbAfxjGCU"
      },
      "execution_count": null,
      "outputs": []
    },
    {
      "cell_type": "code",
      "source": [
        "def q2_b(train_data, test_data):\n",
        "  \"\"\"\n",
        "  train_data: A (n_train, H, W) numpy array of greyscale MNIST images\n",
        "  test_data: A (n_test, H, W) numpy array of greyscale MNIST images\n",
        "\n",
        "  Returns\n",
        "  - a (# of training iterations,) list of train_losses evaluated every minibatch\n",
        "  - a (# of epochs + 1,) list of test_losses evaluated once at initialization and after each epoch\n",
        "  - a tensor containing samples generated by the trained model\n",
        "  \"\"\"\n",
        "  \n",
        "  \"\"\" YOUR CODE HERE \"\"\""
      ],
      "metadata": {
        "id": "sF-pStecjEbp"
      },
      "execution_count": null,
      "outputs": []
    },
    {
      "cell_type": "markdown",
      "source": [
        "### Results\n",
        "\n",
        "Once you've implemented `q2_b`, execute the cell below to visualize and save your results"
      ],
      "metadata": {
        "id": "DJK6USuDmHh1"
      }
    },
    {
      "cell_type": "code",
      "source": [
        "q2b_save_results(q2_b, train_data, test_data)"
      ],
      "metadata": {
        "id": "Yxyl9h3jl_OJ"
      },
      "execution_count": null,
      "outputs": []
    },
    {
      "cell_type": "markdown",
      "source": [
        " ### <font color='red'> Inline Question 4 </font>\n",
        "\n",
        "*   PixelCNN++ uses descretized mixture of logistics instead of negative log likelihood. Please explain briefly what mixture of logistics is and why is it preferred when modeling distribution of images.\n",
        "\n",
        "<font color='red'> Your Answers </font>\n"
      ],
      "metadata": {
        "id": "N3AfoRFzmFJs"
      }
    },
    {
      "cell_type": "markdown",
      "source": [
        "## Part (c) GatedPixelCNN on MNIST (15 Points)"
      ],
      "metadata": {
        "id": "Z7HKTrsUmQIt"
      }
    },
    {
      "cell_type": "markdown",
      "source": [
        "We will again train on MNIST. This time, we do not need to normalize the data."
      ],
      "metadata": {
        "id": "VSfHhdUDpxBl"
      }
    },
    {
      "cell_type": "code",
      "source": [
        "dataset_path = '/content/data'\n",
        "transform = transforms.ToTensor()\n",
        "train_data = datasets.MNIST(root=dataset_path,\n",
        "                            train=True,\n",
        "                            download=True,\n",
        "                            transform=transform)\n",
        "test_data = datasets.MNIST(root=dataset_path,\n",
        "                            train=False,\n",
        "                            download=True,\n",
        "                            transform=transform)\n",
        "print(train_data)\n",
        "\n",
        "plt.imshow(train_data.data[447], cmap='gray')\n",
        "plt.title('%i' % train_data.targets[447])\n",
        "plt.axis('off')\n",
        "plt.show()"
      ],
      "metadata": {
        "id": "rVU9UM6Vpwcb"
      },
      "execution_count": null,
      "outputs": []
    },
    {
      "cell_type": "markdown",
      "source": [
        "### Solution"
      ],
      "metadata": {
        "id": "8jDx_sagxav8"
      }
    },
    {
      "cell_type": "markdown",
      "source": [
        "In this part, you will implement the gated version of the PixelCNN, which solves the blind spot problem of PixelCNN. Please take a look at [the paper](https://arxiv.org/pdf/1606.05328.pdf) for the detailed implementation.\n",
        "\n",
        "First, we will start by implementing a GatedConv2d layer, following Figure 2 of the paper: ![gated](https://drive.google.com/uc?export=view&id=1slOjRQeQaQSVDUCPj6ZsUPFXDQsD9kua)\n",
        "\n",
        "Please take a look at this figure and read the Gated Convolutional Layers part of the paper carefully to implement the following function. This layer should include 4 convolutions with different kernel sizes, as shown in the figure. Again, a header is provided to you, but you may wish to write your own class or your own functions:\n",
        "\n"
      ],
      "metadata": {
        "id": "lXuggoE7mbOj"
      }
    },
    {
      "cell_type": "code",
      "source": [
        "class GatedConv2d(nn.Module):\n",
        "  def __init__(self, mask_type, in_channels, out_channels, kernel_size=7, padding=3):\n",
        "    \"\"\" YOUR CODE HERE \"\"\"\n",
        "\n",
        "  def forward(self, x):\n",
        "    \"\"\" YOUR CODE HERE \"\"\""
      ],
      "metadata": {
        "id": "Uj3kf-Irp-SB"
      },
      "execution_count": null,
      "outputs": []
    },
    {
      "cell_type": "markdown",
      "source": [
        "Now, you can use this layer inside your GatedPixelCNN++ model. Here is a pseudocode for the reference implementation:\n",
        "\n",
        "\n",
        "\n",
        "```\n",
        "class GatedPixelCNN\n",
        "  MaskedConv2d(mask_type='A', in_channels = 1, out_channels = 120, kernel_size = 7, padding = 3)\n",
        "  BatchNorm(num_features=2*120)\n",
        "  ReLU()\n",
        "\n",
        "  for _ in range(3):\n",
        "    GatedConv2d(mask_type='B', in_channels = 120, out_channels = 120, kernel_size = 7, padding = 3)\n",
        "    BatchNorm(num_features=2*120)\n",
        "    ReLU()\n",
        "  \n",
        "  MaskedConv2d(mask_type='B', in_channels = 120, out_channels = 256, kernel_size = 7, padding = 3)\n",
        "\n",
        "\n",
        "```\n",
        "\n"
      ],
      "metadata": {
        "id": "3fhbuh1Bqym2"
      }
    },
    {
      "cell_type": "code",
      "source": [
        "class GatedPixelCNN(nn.Module):\n",
        "  def __init__(self, num_layers = 5, num_channels = 120, kernel_size=7):\n",
        "    \"\"\" YOUR CODE HERE \"\"\"\n",
        "\n",
        "  def forward(self, x):\n",
        "    \"\"\" YOUR CODE HERE \"\"\""
      ],
      "metadata": {
        "id": "Zb8c4BO9qxhS"
      },
      "execution_count": null,
      "outputs": []
    },
    {
      "cell_type": "markdown",
      "source": [
        "Now you are ready to train your model. Fill in the function `q2_c` below to train the model and return the correct deliverables. In this function, you will initialize your model and train this model. The reference implementation uses `batch_size = 128`, `num_epocs = 3`, `optimizer = Adam`, `lr = 1e-3` as hyperparameters. Use Cross Entropy Loss to train this model, just like in Part (a). It should take around 60-65 minutes to train for 3 epochs\n",
        "\n",
        "**You will provide the following deliverables:**\n",
        "\n",
        "*   **A list of training losses evaluated at every minibatch. (Create an empty list before training, append the loss after every minibatch and return the final list).**\n",
        "*   **A list of test losses evaluated once at initialization and after each epoch. (Create an empty list. Evaluate on the test set before training and append it to this list. After every epoch, evaluate on the test set again and append to the list. Return the final list).**\n",
        "*   **25 samples drawn from your trained model. (The sampling function is already provided to you. Just call this function after training and return the samples).**\n",
        "\n",
        "Here is a pseudocode for the reference implementation. Once again, you may wish to implement a generic training function (`train_model`) that takes your model and dataloaders and returns the training losses, or use your implementations from previous parts:\n",
        "\n",
        "\n",
        "```\n",
        "function q2c():\n",
        "  batch_size = 128\n",
        "  num_epochs = 3\n",
        "  train_loader = data.DataLoader(train_data, ...)\n",
        "  test_loader = data.DataLoader(test_data, ...)\n",
        "  device = 'cuda:0' or 'cpu'\n",
        "  model = GatedPixelCNN().to(device)\n",
        "  train_losses, test_losses = train_model(model, train_loader, test_loader, ...)\n",
        "  \n",
        "  samples = sample_gated(model)\n",
        "  return train_losses, test_losses, samples\n",
        "\n",
        "```\n",
        "\n"
      ],
      "metadata": {
        "id": "QmGklqr3srDq"
      }
    },
    {
      "cell_type": "code",
      "source": [
        "# Execute this cell, nothing to implement here\n",
        "def sample_gated(model):\n",
        "  \"\"\"\n",
        "  model: GatedPixelCNN model trained on MNIST\n",
        "\n",
        "  Returns\n",
        "  - sample: A tensor containing the samples generated by the model\n",
        "  \"\"\"\n",
        "  \n",
        "  no_images = 25\n",
        "  images_channels = 1\n",
        "  images_size = 28\n",
        "  sample = torch.Tensor(no_images, images_channels, images_size, images_size).cuda()\n",
        "  sample.fill_(0)\n",
        "\n",
        "  for i in range(images_size):\n",
        "    for j in range(images_size):\n",
        "      out = model(sample)\n",
        "      probs = F.softmax(out[:,:,i,j], dim=-1).data\n",
        "      sample[:,:,i,j] = torch.multinomial(probs, 1).float() / 255.0\n",
        "  return sample.cpu()"
      ],
      "metadata": {
        "id": "nfiEzCTOs_IL"
      },
      "execution_count": null,
      "outputs": []
    },
    {
      "cell_type": "code",
      "source": [
        "def q2_c(train_data, test_data):\n",
        "  \"\"\"\n",
        "  train_data: A (n_train, H, W) numpy array of greyscale MNIST images\n",
        "  test_data: A (n_test, H, W) numpy array of greyscale MNIST images\n",
        "\n",
        "  Returns\n",
        "  - a (# of training iterations,) list of train_losses evaluated every minibatch\n",
        "  - a (# of epochs + 1,) list of test_losses evaluated once at initialization and after each epoch\n",
        "  - a tensor containing samples generated by the trained model\n",
        "  \"\"\"\n",
        "  \n",
        "  \"\"\" YOUR CODE HERE \"\"\""
      ],
      "metadata": {
        "id": "6sj0lAtQtE9a"
      },
      "execution_count": null,
      "outputs": []
    },
    {
      "cell_type": "markdown",
      "source": [
        "### Results\n",
        "\n",
        "Once you've implemented `q2_c`, execute the cell below to visualize and save your results"
      ],
      "metadata": {
        "id": "BHjta_HZtJ9l"
      }
    },
    {
      "cell_type": "code",
      "source": [
        "q2c_save_results(q2_c, train_data, test_data)"
      ],
      "metadata": {
        "id": "6Md315H3tNgs"
      },
      "execution_count": null,
      "outputs": []
    },
    {
      "cell_type": "markdown",
      "source": [
        " ### <font color='red'> Inline Question 5 </font>\n",
        "\n",
        "*   In question 2, you have implemented various PixelCNN models. You have seen the effective receptive fields of each of these models. It's time to visualize them. Please execute the nest cell to visualize receptive fields for PixelCNN and GatedPixelCNN (This cell should run with no issues if you have implemented the MaskedConv2d and GatedConv2d classes correctly, with the given arguments. If you have changed the input arguments etc. you might need to modify this cell.)\n",
        "*   Please briefly explain your observations. What is the difference between the PixelCNN and GatedPixelCNN in terms of these receptive fields? What causes this difference and why is this important?\n",
        "\n",
        "\n",
        "\n",
        "<font color='red'> Your Answers </font>\n"
      ],
      "metadata": {
        "id": "y0trxd7Hmhmk"
      }
    },
    {
      "cell_type": "code",
      "source": [
        "def visualize_receptive_field():\n",
        "  layer1 = MaskedConv2d('A',1, 1, 3, 1, 1).cuda()\n",
        "  layer2 = MaskedConv2d('B',1, 1, 3, 1, 1).cuda()\n",
        "  gated_layer1 = GatedConv2d('A',1, 1, 3, 1).cuda()\n",
        "  gated_layer2 = GatedConv2d('B',1, 1, 3, 1).cuda()\n",
        "  x = torch.randn(1, 1, 11, 11).cuda()\n",
        "  x.requires_grad = True\n",
        "  x_g = torch.randn(1, 1, 11, 11).cuda()\n",
        "  x_g.requires_grad = True\n",
        "  nrows = 3\n",
        "  fig, ax = plt.subplots(nrows=nrows, ncols=2,figsize=(5,10))\n",
        "  for j,row in enumerate(ax):\n",
        "    out_g = torch.cat((x_g, x_g), dim=1)\n",
        "    out_g = gated_layer1(out_g)\n",
        "    out = layer1(x)\n",
        "    for i in range(j):\n",
        "      out = layer2(out)\n",
        "      out_g = gated_layer2(out_g)\n",
        "    out_g = out_g.chunk(2, dim=1)[1]\n",
        "    col1, col2 = row\n",
        "    plot_receptive_field(out, x, col1, ' PixelCNN', j+1)\n",
        "    plot_receptive_field(out_g, x_g, col2, ' GatedPixelCNN', j+1)\n",
        "    x.grad.zero_()\n",
        "    x_g.grad.zero_()\n",
        "\n",
        "visualize_receptive_field()"
      ],
      "metadata": {
        "id": "uXgFGdAJjwLz"
      },
      "execution_count": null,
      "outputs": []
    },
    {
      "cell_type": "markdown",
      "metadata": {
        "id": "6tQSzOjn4Vkq"
      },
      "source": [
        "*This assignment is adapted from UC Berkeley [CS294-158-SP20](https://sites.google.com/view/berkeley-cs294-158-sp20/home)*"
      ]
    }
  ]
}